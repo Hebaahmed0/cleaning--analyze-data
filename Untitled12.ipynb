{
 "cells": [
  {
   "cell_type": "code",
   "execution_count": 1,
   "metadata": {},
   "outputs": [],
   "source": [
    "import numpy as np\n",
    "import pandas as pd"
   ]
  },
  {
   "cell_type": "code",
   "execution_count": 2,
   "metadata": {},
   "outputs": [],
   "source": [
    "Data = pd.read_csv('supermarket.zip')"
   ]
  },
  {
   "cell_type": "code",
   "execution_count": 3,
   "metadata": {},
   "outputs": [
    {
     "data": {
      "text/html": [
       "<div>\n",
       "<style scoped>\n",
       "    .dataframe tbody tr th:only-of-type {\n",
       "        vertical-align: middle;\n",
       "    }\n",
       "\n",
       "    .dataframe tbody tr th {\n",
       "        vertical-align: top;\n",
       "    }\n",
       "\n",
       "    .dataframe thead th {\n",
       "        text-align: right;\n",
       "    }\n",
       "</style>\n",
       "<table border=\"1\" class=\"dataframe\">\n",
       "  <thead>\n",
       "    <tr style=\"text-align: right;\">\n",
       "      <th></th>\n",
       "      <th>Invoice ID</th>\n",
       "      <th>Branch</th>\n",
       "      <th>City</th>\n",
       "      <th>Customer type</th>\n",
       "      <th>Gender</th>\n",
       "      <th>Product line</th>\n",
       "      <th>Unit price</th>\n",
       "      <th>Quantity</th>\n",
       "      <th>Tax 5%</th>\n",
       "      <th>Total</th>\n",
       "      <th>Date</th>\n",
       "      <th>Time</th>\n",
       "      <th>Payment</th>\n",
       "      <th>cogs</th>\n",
       "      <th>gross margin percentage</th>\n",
       "      <th>gross income</th>\n",
       "      <th>Rating</th>\n",
       "    </tr>\n",
       "  </thead>\n",
       "  <tbody>\n",
       "  </tbody>\n",
       "</table>\n",
       "</div>"
      ],
      "text/plain": [
       "Empty DataFrame\n",
       "Columns: [Invoice ID, Branch, City, Customer type, Gender, Product line, Unit price, Quantity, Tax 5%, Total, Date, Time, Payment, cogs, gross margin percentage, gross income, Rating]\n",
       "Index: []"
      ]
     },
     "execution_count": 3,
     "metadata": {},
     "output_type": "execute_result"
    }
   ],
   "source": [
    "Data[Data.duplicated()]"
   ]
  },
  {
   "cell_type": "code",
   "execution_count": 4,
   "metadata": {},
   "outputs": [
    {
     "data": {
      "text/html": [
       "<div>\n",
       "<style scoped>\n",
       "    .dataframe tbody tr th:only-of-type {\n",
       "        vertical-align: middle;\n",
       "    }\n",
       "\n",
       "    .dataframe tbody tr th {\n",
       "        vertical-align: top;\n",
       "    }\n",
       "\n",
       "    .dataframe thead th {\n",
       "        text-align: right;\n",
       "    }\n",
       "</style>\n",
       "<table border=\"1\" class=\"dataframe\">\n",
       "  <thead>\n",
       "    <tr style=\"text-align: right;\">\n",
       "      <th></th>\n",
       "      <th>Invoice ID</th>\n",
       "      <th>Branch</th>\n",
       "      <th>City</th>\n",
       "      <th>Customer type</th>\n",
       "      <th>Gender</th>\n",
       "      <th>Product line</th>\n",
       "      <th>Unit price</th>\n",
       "      <th>Quantity</th>\n",
       "      <th>Tax 5%</th>\n",
       "      <th>Total</th>\n",
       "      <th>Date</th>\n",
       "      <th>Time</th>\n",
       "      <th>Payment</th>\n",
       "      <th>cogs</th>\n",
       "      <th>gross margin percentage</th>\n",
       "      <th>gross income</th>\n",
       "      <th>Rating</th>\n",
       "    </tr>\n",
       "  </thead>\n",
       "  <tbody>\n",
       "    <tr>\n",
       "      <th>544</th>\n",
       "      <td>841-18-8232</td>\n",
       "      <td>B</td>\n",
       "      <td>Mandalay</td>\n",
       "      <td>Normal</td>\n",
       "      <td>Female</td>\n",
       "      <td>Food and beverages</td>\n",
       "      <td>71.20</td>\n",
       "      <td>1</td>\n",
       "      <td>3.5600</td>\n",
       "      <td>74.7600</td>\n",
       "      <td>1/5/2019</td>\n",
       "      <td>20:40</td>\n",
       "      <td>Credit card</td>\n",
       "      <td>71.20</td>\n",
       "      <td>4.761905</td>\n",
       "      <td>3.5600</td>\n",
       "      <td>9.2</td>\n",
       "    </tr>\n",
       "    <tr>\n",
       "      <th>812</th>\n",
       "      <td>815-04-6282</td>\n",
       "      <td>C</td>\n",
       "      <td>Naypyitaw</td>\n",
       "      <td>Member</td>\n",
       "      <td>Female</td>\n",
       "      <td>Sports and travel</td>\n",
       "      <td>64.97</td>\n",
       "      <td>5</td>\n",
       "      <td>16.2425</td>\n",
       "      <td>341.0925</td>\n",
       "      <td>2/8/2019</td>\n",
       "      <td>12:52</td>\n",
       "      <td>Credit card</td>\n",
       "      <td>324.85</td>\n",
       "      <td>4.761905</td>\n",
       "      <td>16.2425</td>\n",
       "      <td>6.5</td>\n",
       "    </tr>\n",
       "    <tr>\n",
       "      <th>194</th>\n",
       "      <td>831-07-6050</td>\n",
       "      <td>A</td>\n",
       "      <td>Yangon</td>\n",
       "      <td>Normal</td>\n",
       "      <td>Male</td>\n",
       "      <td>Electronic accessories</td>\n",
       "      <td>32.71</td>\n",
       "      <td>5</td>\n",
       "      <td>8.1775</td>\n",
       "      <td>171.7275</td>\n",
       "      <td>3/19/2019</td>\n",
       "      <td>11:30</td>\n",
       "      <td>Credit card</td>\n",
       "      <td>163.55</td>\n",
       "      <td>4.761905</td>\n",
       "      <td>8.1775</td>\n",
       "      <td>9.9</td>\n",
       "    </tr>\n",
       "    <tr>\n",
       "      <th>708</th>\n",
       "      <td>760-27-5490</td>\n",
       "      <td>C</td>\n",
       "      <td>Naypyitaw</td>\n",
       "      <td>Normal</td>\n",
       "      <td>Male</td>\n",
       "      <td>Fashion accessories</td>\n",
       "      <td>15.62</td>\n",
       "      <td>8</td>\n",
       "      <td>6.2480</td>\n",
       "      <td>131.2080</td>\n",
       "      <td>1/20/2019</td>\n",
       "      <td>20:37</td>\n",
       "      <td>Ewallet</td>\n",
       "      <td>124.96</td>\n",
       "      <td>4.761905</td>\n",
       "      <td>6.2480</td>\n",
       "      <td>9.1</td>\n",
       "    </tr>\n",
       "    <tr>\n",
       "      <th>992</th>\n",
       "      <td>745-74-0715</td>\n",
       "      <td>A</td>\n",
       "      <td>Yangon</td>\n",
       "      <td>Normal</td>\n",
       "      <td>Male</td>\n",
       "      <td>Electronic accessories</td>\n",
       "      <td>58.03</td>\n",
       "      <td>2</td>\n",
       "      <td>5.8030</td>\n",
       "      <td>121.8630</td>\n",
       "      <td>3/10/2019</td>\n",
       "      <td>20:46</td>\n",
       "      <td>Ewallet</td>\n",
       "      <td>116.06</td>\n",
       "      <td>4.761905</td>\n",
       "      <td>5.8030</td>\n",
       "      <td>8.8</td>\n",
       "    </tr>\n",
       "  </tbody>\n",
       "</table>\n",
       "</div>"
      ],
      "text/plain": [
       "      Invoice ID Branch       City Customer type  Gender  \\\n",
       "544  841-18-8232      B   Mandalay        Normal  Female   \n",
       "812  815-04-6282      C  Naypyitaw        Member  Female   \n",
       "194  831-07-6050      A     Yangon        Normal    Male   \n",
       "708  760-27-5490      C  Naypyitaw        Normal    Male   \n",
       "992  745-74-0715      A     Yangon        Normal    Male   \n",
       "\n",
       "               Product line  Unit price  Quantity   Tax 5%     Total  \\\n",
       "544      Food and beverages       71.20         1   3.5600   74.7600   \n",
       "812       Sports and travel       64.97         5  16.2425  341.0925   \n",
       "194  Electronic accessories       32.71         5   8.1775  171.7275   \n",
       "708     Fashion accessories       15.62         8   6.2480  131.2080   \n",
       "992  Electronic accessories       58.03         2   5.8030  121.8630   \n",
       "\n",
       "          Date   Time      Payment    cogs  gross margin percentage  \\\n",
       "544   1/5/2019  20:40  Credit card   71.20                 4.761905   \n",
       "812   2/8/2019  12:52  Credit card  324.85                 4.761905   \n",
       "194  3/19/2019  11:30  Credit card  163.55                 4.761905   \n",
       "708  1/20/2019  20:37      Ewallet  124.96                 4.761905   \n",
       "992  3/10/2019  20:46      Ewallet  116.06                 4.761905   \n",
       "\n",
       "     gross income  Rating  \n",
       "544        3.5600     9.2  \n",
       "812       16.2425     6.5  \n",
       "194        8.1775     9.9  \n",
       "708        6.2480     9.1  \n",
       "992        5.8030     8.8  "
      ]
     },
     "execution_count": 4,
     "metadata": {},
     "output_type": "execute_result"
    }
   ],
   "source": [
    "Data.sample(5)"
   ]
  },
  {
   "cell_type": "code",
   "execution_count": 5,
   "metadata": {},
   "outputs": [],
   "source": [
    "Data = Data[Data.cogs > 1 ]"
   ]
  },
  {
   "cell_type": "code",
   "execution_count": 6,
   "metadata": {},
   "outputs": [],
   "source": [
    "Data = Data.drop('Branch',axis='columns')"
   ]
  },
  {
   "cell_type": "code",
   "execution_count": 7,
   "metadata": {},
   "outputs": [],
   "source": [
    "Data = Data.drop('Time',axis='columns')"
   ]
  },
  {
   "cell_type": "code",
   "execution_count": 8,
   "metadata": {},
   "outputs": [],
   "source": [
    "Data = Data.drop('gross margin percentage',axis='columns')"
   ]
  },
  {
   "cell_type": "code",
   "execution_count": 9,
   "metadata": {},
   "outputs": [],
   "source": [
    "Data = Data.drop('gross income',axis='columns')"
   ]
  },
  {
   "cell_type": "code",
   "execution_count": 10,
   "metadata": {},
   "outputs": [
    {
     "name": "stdout",
     "output_type": "stream",
     "text": [
      "<class 'pandas.core.frame.DataFrame'>\n",
      "Int64Index: 1000 entries, 0 to 999\n",
      "Data columns (total 13 columns):\n",
      " #   Column         Non-Null Count  Dtype  \n",
      "---  ------         --------------  -----  \n",
      " 0   Invoice ID     1000 non-null   object \n",
      " 1   City           1000 non-null   object \n",
      " 2   Customer type  1000 non-null   object \n",
      " 3   Gender         1000 non-null   object \n",
      " 4   Product line   1000 non-null   object \n",
      " 5   Unit price     1000 non-null   float64\n",
      " 6   Quantity       1000 non-null   int64  \n",
      " 7   Tax 5%         1000 non-null   float64\n",
      " 8   Total          1000 non-null   float64\n",
      " 9   Date           1000 non-null   object \n",
      " 10  Payment        1000 non-null   object \n",
      " 11  cogs           1000 non-null   float64\n",
      " 12  Rating         1000 non-null   float64\n",
      "dtypes: float64(5), int64(1), object(7)\n",
      "memory usage: 109.4+ KB\n"
     ]
    }
   ],
   "source": [
    "Data.info()"
   ]
  },
  {
   "cell_type": "code",
   "execution_count": 11,
   "metadata": {},
   "outputs": [
    {
     "data": {
      "text/plain": [
       "0"
      ]
     },
     "execution_count": 11,
     "metadata": {},
     "output_type": "execute_result"
    }
   ],
   "source": [
    "sum(Data.Payment.isnull())"
   ]
  },
  {
   "cell_type": "code",
   "execution_count": 12,
   "metadata": {},
   "outputs": [],
   "source": [
    "Data['Customer'] = Data[['Customer type', 'Gender']].agg(' '.join, axis=1)"
   ]
  },
  {
   "cell_type": "code",
   "execution_count": 13,
   "metadata": {},
   "outputs": [],
   "source": [
    "Data = Data.drop('Customer type',axis='columns')"
   ]
  },
  {
   "cell_type": "code",
   "execution_count": 14,
   "metadata": {},
   "outputs": [],
   "source": [
    "Data = Data.drop('Gender',axis='columns')"
   ]
  },
  {
   "cell_type": "code",
   "execution_count": 15,
   "metadata": {},
   "outputs": [
    {
     "data": {
      "text/html": [
       "<div>\n",
       "<style scoped>\n",
       "    .dataframe tbody tr th:only-of-type {\n",
       "        vertical-align: middle;\n",
       "    }\n",
       "\n",
       "    .dataframe tbody tr th {\n",
       "        vertical-align: top;\n",
       "    }\n",
       "\n",
       "    .dataframe thead th {\n",
       "        text-align: right;\n",
       "    }\n",
       "</style>\n",
       "<table border=\"1\" class=\"dataframe\">\n",
       "  <thead>\n",
       "    <tr style=\"text-align: right;\">\n",
       "      <th></th>\n",
       "      <th>Invoice ID</th>\n",
       "      <th>City</th>\n",
       "      <th>Product line</th>\n",
       "      <th>Unit price</th>\n",
       "      <th>Quantity</th>\n",
       "      <th>Tax 5%</th>\n",
       "      <th>Total</th>\n",
       "      <th>Date</th>\n",
       "      <th>Payment</th>\n",
       "      <th>cogs</th>\n",
       "      <th>Rating</th>\n",
       "      <th>Customer</th>\n",
       "    </tr>\n",
       "  </thead>\n",
       "  <tbody>\n",
       "    <tr>\n",
       "      <th>0</th>\n",
       "      <td>750-67-8428</td>\n",
       "      <td>Yangon</td>\n",
       "      <td>Health and beauty</td>\n",
       "      <td>74.69</td>\n",
       "      <td>7</td>\n",
       "      <td>26.1415</td>\n",
       "      <td>548.9715</td>\n",
       "      <td>1/5/2019</td>\n",
       "      <td>Ewallet</td>\n",
       "      <td>522.83</td>\n",
       "      <td>9.1</td>\n",
       "      <td>Member Female</td>\n",
       "    </tr>\n",
       "    <tr>\n",
       "      <th>1</th>\n",
       "      <td>226-31-3081</td>\n",
       "      <td>Naypyitaw</td>\n",
       "      <td>Electronic accessories</td>\n",
       "      <td>15.28</td>\n",
       "      <td>5</td>\n",
       "      <td>3.8200</td>\n",
       "      <td>80.2200</td>\n",
       "      <td>3/8/2019</td>\n",
       "      <td>Cash</td>\n",
       "      <td>76.40</td>\n",
       "      <td>9.6</td>\n",
       "      <td>Normal Female</td>\n",
       "    </tr>\n",
       "    <tr>\n",
       "      <th>2</th>\n",
       "      <td>631-41-3108</td>\n",
       "      <td>Yangon</td>\n",
       "      <td>Home and lifestyle</td>\n",
       "      <td>46.33</td>\n",
       "      <td>7</td>\n",
       "      <td>16.2155</td>\n",
       "      <td>340.5255</td>\n",
       "      <td>3/3/2019</td>\n",
       "      <td>Credit card</td>\n",
       "      <td>324.31</td>\n",
       "      <td>7.4</td>\n",
       "      <td>Normal Male</td>\n",
       "    </tr>\n",
       "    <tr>\n",
       "      <th>3</th>\n",
       "      <td>123-19-1176</td>\n",
       "      <td>Yangon</td>\n",
       "      <td>Health and beauty</td>\n",
       "      <td>58.22</td>\n",
       "      <td>8</td>\n",
       "      <td>23.2880</td>\n",
       "      <td>489.0480</td>\n",
       "      <td>1/27/2019</td>\n",
       "      <td>Ewallet</td>\n",
       "      <td>465.76</td>\n",
       "      <td>8.4</td>\n",
       "      <td>Member Male</td>\n",
       "    </tr>\n",
       "    <tr>\n",
       "      <th>4</th>\n",
       "      <td>373-73-7910</td>\n",
       "      <td>Yangon</td>\n",
       "      <td>Sports and travel</td>\n",
       "      <td>86.31</td>\n",
       "      <td>7</td>\n",
       "      <td>30.2085</td>\n",
       "      <td>634.3785</td>\n",
       "      <td>2/8/2019</td>\n",
       "      <td>Ewallet</td>\n",
       "      <td>604.17</td>\n",
       "      <td>5.3</td>\n",
       "      <td>Normal Male</td>\n",
       "    </tr>\n",
       "    <tr>\n",
       "      <th>...</th>\n",
       "      <td>...</td>\n",
       "      <td>...</td>\n",
       "      <td>...</td>\n",
       "      <td>...</td>\n",
       "      <td>...</td>\n",
       "      <td>...</td>\n",
       "      <td>...</td>\n",
       "      <td>...</td>\n",
       "      <td>...</td>\n",
       "      <td>...</td>\n",
       "      <td>...</td>\n",
       "      <td>...</td>\n",
       "    </tr>\n",
       "    <tr>\n",
       "      <th>995</th>\n",
       "      <td>233-67-5758</td>\n",
       "      <td>Naypyitaw</td>\n",
       "      <td>Health and beauty</td>\n",
       "      <td>40.35</td>\n",
       "      <td>1</td>\n",
       "      <td>2.0175</td>\n",
       "      <td>42.3675</td>\n",
       "      <td>1/29/2019</td>\n",
       "      <td>Ewallet</td>\n",
       "      <td>40.35</td>\n",
       "      <td>6.2</td>\n",
       "      <td>Normal Male</td>\n",
       "    </tr>\n",
       "    <tr>\n",
       "      <th>996</th>\n",
       "      <td>303-96-2227</td>\n",
       "      <td>Mandalay</td>\n",
       "      <td>Home and lifestyle</td>\n",
       "      <td>97.38</td>\n",
       "      <td>10</td>\n",
       "      <td>48.6900</td>\n",
       "      <td>1022.4900</td>\n",
       "      <td>3/2/2019</td>\n",
       "      <td>Ewallet</td>\n",
       "      <td>973.80</td>\n",
       "      <td>4.4</td>\n",
       "      <td>Normal Female</td>\n",
       "    </tr>\n",
       "    <tr>\n",
       "      <th>997</th>\n",
       "      <td>727-02-1313</td>\n",
       "      <td>Yangon</td>\n",
       "      <td>Food and beverages</td>\n",
       "      <td>31.84</td>\n",
       "      <td>1</td>\n",
       "      <td>1.5920</td>\n",
       "      <td>33.4320</td>\n",
       "      <td>2/9/2019</td>\n",
       "      <td>Cash</td>\n",
       "      <td>31.84</td>\n",
       "      <td>7.7</td>\n",
       "      <td>Member Male</td>\n",
       "    </tr>\n",
       "    <tr>\n",
       "      <th>998</th>\n",
       "      <td>347-56-2442</td>\n",
       "      <td>Yangon</td>\n",
       "      <td>Home and lifestyle</td>\n",
       "      <td>65.82</td>\n",
       "      <td>1</td>\n",
       "      <td>3.2910</td>\n",
       "      <td>69.1110</td>\n",
       "      <td>2/22/2019</td>\n",
       "      <td>Cash</td>\n",
       "      <td>65.82</td>\n",
       "      <td>4.1</td>\n",
       "      <td>Normal Male</td>\n",
       "    </tr>\n",
       "    <tr>\n",
       "      <th>999</th>\n",
       "      <td>849-09-3807</td>\n",
       "      <td>Yangon</td>\n",
       "      <td>Fashion accessories</td>\n",
       "      <td>88.34</td>\n",
       "      <td>7</td>\n",
       "      <td>30.9190</td>\n",
       "      <td>649.2990</td>\n",
       "      <td>2/18/2019</td>\n",
       "      <td>Cash</td>\n",
       "      <td>618.38</td>\n",
       "      <td>6.6</td>\n",
       "      <td>Member Female</td>\n",
       "    </tr>\n",
       "  </tbody>\n",
       "</table>\n",
       "<p>1000 rows × 12 columns</p>\n",
       "</div>"
      ],
      "text/plain": [
       "      Invoice ID       City            Product line  Unit price  Quantity  \\\n",
       "0    750-67-8428     Yangon       Health and beauty       74.69         7   \n",
       "1    226-31-3081  Naypyitaw  Electronic accessories       15.28         5   \n",
       "2    631-41-3108     Yangon      Home and lifestyle       46.33         7   \n",
       "3    123-19-1176     Yangon       Health and beauty       58.22         8   \n",
       "4    373-73-7910     Yangon       Sports and travel       86.31         7   \n",
       "..           ...        ...                     ...         ...       ...   \n",
       "995  233-67-5758  Naypyitaw       Health and beauty       40.35         1   \n",
       "996  303-96-2227   Mandalay      Home and lifestyle       97.38        10   \n",
       "997  727-02-1313     Yangon      Food and beverages       31.84         1   \n",
       "998  347-56-2442     Yangon      Home and lifestyle       65.82         1   \n",
       "999  849-09-3807     Yangon     Fashion accessories       88.34         7   \n",
       "\n",
       "      Tax 5%      Total       Date      Payment    cogs  Rating       Customer  \n",
       "0    26.1415   548.9715   1/5/2019      Ewallet  522.83     9.1  Member Female  \n",
       "1     3.8200    80.2200   3/8/2019         Cash   76.40     9.6  Normal Female  \n",
       "2    16.2155   340.5255   3/3/2019  Credit card  324.31     7.4    Normal Male  \n",
       "3    23.2880   489.0480  1/27/2019      Ewallet  465.76     8.4    Member Male  \n",
       "4    30.2085   634.3785   2/8/2019      Ewallet  604.17     5.3    Normal Male  \n",
       "..       ...        ...        ...          ...     ...     ...            ...  \n",
       "995   2.0175    42.3675  1/29/2019      Ewallet   40.35     6.2    Normal Male  \n",
       "996  48.6900  1022.4900   3/2/2019      Ewallet  973.80     4.4  Normal Female  \n",
       "997   1.5920    33.4320   2/9/2019         Cash   31.84     7.7    Member Male  \n",
       "998   3.2910    69.1110  2/22/2019         Cash   65.82     4.1    Normal Male  \n",
       "999  30.9190   649.2990  2/18/2019         Cash  618.38     6.6  Member Female  \n",
       "\n",
       "[1000 rows x 12 columns]"
      ]
     },
     "execution_count": 15,
     "metadata": {},
     "output_type": "execute_result"
    }
   ],
   "source": [
    "Data"
   ]
  },
  {
   "cell_type": "code",
   "execution_count": 16,
   "metadata": {},
   "outputs": [],
   "source": [
    "Data = Data.reindex(columns=['Invoice ID','City','Customer','Product line','Unit price','Quantity','Tax 5%','Total','Payment','cogs','Rating'])"
   ]
  },
  {
   "cell_type": "code",
   "execution_count": 17,
   "metadata": {},
   "outputs": [
    {
     "data": {
      "text/html": [
       "<div>\n",
       "<style scoped>\n",
       "    .dataframe tbody tr th:only-of-type {\n",
       "        vertical-align: middle;\n",
       "    }\n",
       "\n",
       "    .dataframe tbody tr th {\n",
       "        vertical-align: top;\n",
       "    }\n",
       "\n",
       "    .dataframe thead th {\n",
       "        text-align: right;\n",
       "    }\n",
       "</style>\n",
       "<table border=\"1\" class=\"dataframe\">\n",
       "  <thead>\n",
       "    <tr style=\"text-align: right;\">\n",
       "      <th></th>\n",
       "      <th>Invoice ID</th>\n",
       "      <th>City</th>\n",
       "      <th>Customer</th>\n",
       "      <th>Product line</th>\n",
       "      <th>Unit price</th>\n",
       "      <th>Quantity</th>\n",
       "      <th>Tax 5%</th>\n",
       "      <th>Total</th>\n",
       "      <th>Payment</th>\n",
       "      <th>cogs</th>\n",
       "      <th>Rating</th>\n",
       "    </tr>\n",
       "  </thead>\n",
       "  <tbody>\n",
       "    <tr>\n",
       "      <th>0</th>\n",
       "      <td>750-67-8428</td>\n",
       "      <td>Yangon</td>\n",
       "      <td>Member Female</td>\n",
       "      <td>Health and beauty</td>\n",
       "      <td>74.69</td>\n",
       "      <td>7</td>\n",
       "      <td>26.1415</td>\n",
       "      <td>548.9715</td>\n",
       "      <td>Ewallet</td>\n",
       "      <td>522.83</td>\n",
       "      <td>9.1</td>\n",
       "    </tr>\n",
       "    <tr>\n",
       "      <th>1</th>\n",
       "      <td>226-31-3081</td>\n",
       "      <td>Naypyitaw</td>\n",
       "      <td>Normal Female</td>\n",
       "      <td>Electronic accessories</td>\n",
       "      <td>15.28</td>\n",
       "      <td>5</td>\n",
       "      <td>3.8200</td>\n",
       "      <td>80.2200</td>\n",
       "      <td>Cash</td>\n",
       "      <td>76.40</td>\n",
       "      <td>9.6</td>\n",
       "    </tr>\n",
       "    <tr>\n",
       "      <th>2</th>\n",
       "      <td>631-41-3108</td>\n",
       "      <td>Yangon</td>\n",
       "      <td>Normal Male</td>\n",
       "      <td>Home and lifestyle</td>\n",
       "      <td>46.33</td>\n",
       "      <td>7</td>\n",
       "      <td>16.2155</td>\n",
       "      <td>340.5255</td>\n",
       "      <td>Credit card</td>\n",
       "      <td>324.31</td>\n",
       "      <td>7.4</td>\n",
       "    </tr>\n",
       "    <tr>\n",
       "      <th>3</th>\n",
       "      <td>123-19-1176</td>\n",
       "      <td>Yangon</td>\n",
       "      <td>Member Male</td>\n",
       "      <td>Health and beauty</td>\n",
       "      <td>58.22</td>\n",
       "      <td>8</td>\n",
       "      <td>23.2880</td>\n",
       "      <td>489.0480</td>\n",
       "      <td>Ewallet</td>\n",
       "      <td>465.76</td>\n",
       "      <td>8.4</td>\n",
       "    </tr>\n",
       "    <tr>\n",
       "      <th>4</th>\n",
       "      <td>373-73-7910</td>\n",
       "      <td>Yangon</td>\n",
       "      <td>Normal Male</td>\n",
       "      <td>Sports and travel</td>\n",
       "      <td>86.31</td>\n",
       "      <td>7</td>\n",
       "      <td>30.2085</td>\n",
       "      <td>634.3785</td>\n",
       "      <td>Ewallet</td>\n",
       "      <td>604.17</td>\n",
       "      <td>5.3</td>\n",
       "    </tr>\n",
       "    <tr>\n",
       "      <th>...</th>\n",
       "      <td>...</td>\n",
       "      <td>...</td>\n",
       "      <td>...</td>\n",
       "      <td>...</td>\n",
       "      <td>...</td>\n",
       "      <td>...</td>\n",
       "      <td>...</td>\n",
       "      <td>...</td>\n",
       "      <td>...</td>\n",
       "      <td>...</td>\n",
       "      <td>...</td>\n",
       "    </tr>\n",
       "    <tr>\n",
       "      <th>995</th>\n",
       "      <td>233-67-5758</td>\n",
       "      <td>Naypyitaw</td>\n",
       "      <td>Normal Male</td>\n",
       "      <td>Health and beauty</td>\n",
       "      <td>40.35</td>\n",
       "      <td>1</td>\n",
       "      <td>2.0175</td>\n",
       "      <td>42.3675</td>\n",
       "      <td>Ewallet</td>\n",
       "      <td>40.35</td>\n",
       "      <td>6.2</td>\n",
       "    </tr>\n",
       "    <tr>\n",
       "      <th>996</th>\n",
       "      <td>303-96-2227</td>\n",
       "      <td>Mandalay</td>\n",
       "      <td>Normal Female</td>\n",
       "      <td>Home and lifestyle</td>\n",
       "      <td>97.38</td>\n",
       "      <td>10</td>\n",
       "      <td>48.6900</td>\n",
       "      <td>1022.4900</td>\n",
       "      <td>Ewallet</td>\n",
       "      <td>973.80</td>\n",
       "      <td>4.4</td>\n",
       "    </tr>\n",
       "    <tr>\n",
       "      <th>997</th>\n",
       "      <td>727-02-1313</td>\n",
       "      <td>Yangon</td>\n",
       "      <td>Member Male</td>\n",
       "      <td>Food and beverages</td>\n",
       "      <td>31.84</td>\n",
       "      <td>1</td>\n",
       "      <td>1.5920</td>\n",
       "      <td>33.4320</td>\n",
       "      <td>Cash</td>\n",
       "      <td>31.84</td>\n",
       "      <td>7.7</td>\n",
       "    </tr>\n",
       "    <tr>\n",
       "      <th>998</th>\n",
       "      <td>347-56-2442</td>\n",
       "      <td>Yangon</td>\n",
       "      <td>Normal Male</td>\n",
       "      <td>Home and lifestyle</td>\n",
       "      <td>65.82</td>\n",
       "      <td>1</td>\n",
       "      <td>3.2910</td>\n",
       "      <td>69.1110</td>\n",
       "      <td>Cash</td>\n",
       "      <td>65.82</td>\n",
       "      <td>4.1</td>\n",
       "    </tr>\n",
       "    <tr>\n",
       "      <th>999</th>\n",
       "      <td>849-09-3807</td>\n",
       "      <td>Yangon</td>\n",
       "      <td>Member Female</td>\n",
       "      <td>Fashion accessories</td>\n",
       "      <td>88.34</td>\n",
       "      <td>7</td>\n",
       "      <td>30.9190</td>\n",
       "      <td>649.2990</td>\n",
       "      <td>Cash</td>\n",
       "      <td>618.38</td>\n",
       "      <td>6.6</td>\n",
       "    </tr>\n",
       "  </tbody>\n",
       "</table>\n",
       "<p>1000 rows × 11 columns</p>\n",
       "</div>"
      ],
      "text/plain": [
       "      Invoice ID       City       Customer            Product line  \\\n",
       "0    750-67-8428     Yangon  Member Female       Health and beauty   \n",
       "1    226-31-3081  Naypyitaw  Normal Female  Electronic accessories   \n",
       "2    631-41-3108     Yangon    Normal Male      Home and lifestyle   \n",
       "3    123-19-1176     Yangon    Member Male       Health and beauty   \n",
       "4    373-73-7910     Yangon    Normal Male       Sports and travel   \n",
       "..           ...        ...            ...                     ...   \n",
       "995  233-67-5758  Naypyitaw    Normal Male       Health and beauty   \n",
       "996  303-96-2227   Mandalay  Normal Female      Home and lifestyle   \n",
       "997  727-02-1313     Yangon    Member Male      Food and beverages   \n",
       "998  347-56-2442     Yangon    Normal Male      Home and lifestyle   \n",
       "999  849-09-3807     Yangon  Member Female     Fashion accessories   \n",
       "\n",
       "     Unit price  Quantity   Tax 5%      Total      Payment    cogs  Rating  \n",
       "0         74.69         7  26.1415   548.9715      Ewallet  522.83     9.1  \n",
       "1         15.28         5   3.8200    80.2200         Cash   76.40     9.6  \n",
       "2         46.33         7  16.2155   340.5255  Credit card  324.31     7.4  \n",
       "3         58.22         8  23.2880   489.0480      Ewallet  465.76     8.4  \n",
       "4         86.31         7  30.2085   634.3785      Ewallet  604.17     5.3  \n",
       "..          ...       ...      ...        ...          ...     ...     ...  \n",
       "995       40.35         1   2.0175    42.3675      Ewallet   40.35     6.2  \n",
       "996       97.38        10  48.6900  1022.4900      Ewallet  973.80     4.4  \n",
       "997       31.84         1   1.5920    33.4320         Cash   31.84     7.7  \n",
       "998       65.82         1   3.2910    69.1110         Cash   65.82     4.1  \n",
       "999       88.34         7  30.9190   649.2990         Cash  618.38     6.6  \n",
       "\n",
       "[1000 rows x 11 columns]"
      ]
     },
     "execution_count": 17,
     "metadata": {},
     "output_type": "execute_result"
    }
   ],
   "source": [
    "Data"
   ]
  },
  {
   "cell_type": "code",
   "execution_count": 18,
   "metadata": {},
   "outputs": [],
   "source": [
    "def f(row):\n",
    "    if row['Rating'] <=5:\n",
    "        val = 'bad'\n",
    "    elif row['Rating'] >5 and row['Rating']<8 :\n",
    "        val = 'medium'\n",
    "    else:\n",
    "        val = 'excellent'\n",
    "    return val"
   ]
  },
  {
   "cell_type": "code",
   "execution_count": 27,
   "metadata": {},
   "outputs": [],
   "source": [
    "Data['RATE'] = Data.apply(f, axis=1)\n"
   ]
  },
  {
   "cell_type": "code",
   "execution_count": 29,
   "metadata": {},
   "outputs": [
    {
     "data": {
      "text/html": [
       "<div>\n",
       "<style scoped>\n",
       "    .dataframe tbody tr th:only-of-type {\n",
       "        vertical-align: middle;\n",
       "    }\n",
       "\n",
       "    .dataframe tbody tr th {\n",
       "        vertical-align: top;\n",
       "    }\n",
       "\n",
       "    .dataframe thead th {\n",
       "        text-align: right;\n",
       "    }\n",
       "</style>\n",
       "<table border=\"1\" class=\"dataframe\">\n",
       "  <thead>\n",
       "    <tr style=\"text-align: right;\">\n",
       "      <th></th>\n",
       "      <th>Invoice ID</th>\n",
       "      <th>City</th>\n",
       "      <th>Customer</th>\n",
       "      <th>Product line</th>\n",
       "      <th>Unit price</th>\n",
       "      <th>Quantity</th>\n",
       "      <th>Tax 5%</th>\n",
       "      <th>Total</th>\n",
       "      <th>Payment</th>\n",
       "      <th>cogs</th>\n",
       "      <th>Rating</th>\n",
       "      <th>RATE</th>\n",
       "    </tr>\n",
       "  </thead>\n",
       "  <tbody>\n",
       "    <tr>\n",
       "      <th>0</th>\n",
       "      <td>750-67-8428</td>\n",
       "      <td>Yangon</td>\n",
       "      <td>Member Female</td>\n",
       "      <td>Health and beauty</td>\n",
       "      <td>74.69</td>\n",
       "      <td>7</td>\n",
       "      <td>26.1415</td>\n",
       "      <td>548.9715</td>\n",
       "      <td>Ewallet</td>\n",
       "      <td>522.83</td>\n",
       "      <td>9.1</td>\n",
       "      <td>excellent</td>\n",
       "    </tr>\n",
       "    <tr>\n",
       "      <th>1</th>\n",
       "      <td>226-31-3081</td>\n",
       "      <td>Naypyitaw</td>\n",
       "      <td>Normal Female</td>\n",
       "      <td>Electronic accessories</td>\n",
       "      <td>15.28</td>\n",
       "      <td>5</td>\n",
       "      <td>3.8200</td>\n",
       "      <td>80.2200</td>\n",
       "      <td>Cash</td>\n",
       "      <td>76.40</td>\n",
       "      <td>9.6</td>\n",
       "      <td>excellent</td>\n",
       "    </tr>\n",
       "    <tr>\n",
       "      <th>2</th>\n",
       "      <td>631-41-3108</td>\n",
       "      <td>Yangon</td>\n",
       "      <td>Normal Male</td>\n",
       "      <td>Home and lifestyle</td>\n",
       "      <td>46.33</td>\n",
       "      <td>7</td>\n",
       "      <td>16.2155</td>\n",
       "      <td>340.5255</td>\n",
       "      <td>Credit card</td>\n",
       "      <td>324.31</td>\n",
       "      <td>7.4</td>\n",
       "      <td>medium</td>\n",
       "    </tr>\n",
       "    <tr>\n",
       "      <th>3</th>\n",
       "      <td>123-19-1176</td>\n",
       "      <td>Yangon</td>\n",
       "      <td>Member Male</td>\n",
       "      <td>Health and beauty</td>\n",
       "      <td>58.22</td>\n",
       "      <td>8</td>\n",
       "      <td>23.2880</td>\n",
       "      <td>489.0480</td>\n",
       "      <td>Ewallet</td>\n",
       "      <td>465.76</td>\n",
       "      <td>8.4</td>\n",
       "      <td>excellent</td>\n",
       "    </tr>\n",
       "    <tr>\n",
       "      <th>4</th>\n",
       "      <td>373-73-7910</td>\n",
       "      <td>Yangon</td>\n",
       "      <td>Normal Male</td>\n",
       "      <td>Sports and travel</td>\n",
       "      <td>86.31</td>\n",
       "      <td>7</td>\n",
       "      <td>30.2085</td>\n",
       "      <td>634.3785</td>\n",
       "      <td>Ewallet</td>\n",
       "      <td>604.17</td>\n",
       "      <td>5.3</td>\n",
       "      <td>medium</td>\n",
       "    </tr>\n",
       "    <tr>\n",
       "      <th>...</th>\n",
       "      <td>...</td>\n",
       "      <td>...</td>\n",
       "      <td>...</td>\n",
       "      <td>...</td>\n",
       "      <td>...</td>\n",
       "      <td>...</td>\n",
       "      <td>...</td>\n",
       "      <td>...</td>\n",
       "      <td>...</td>\n",
       "      <td>...</td>\n",
       "      <td>...</td>\n",
       "      <td>...</td>\n",
       "    </tr>\n",
       "    <tr>\n",
       "      <th>995</th>\n",
       "      <td>233-67-5758</td>\n",
       "      <td>Naypyitaw</td>\n",
       "      <td>Normal Male</td>\n",
       "      <td>Health and beauty</td>\n",
       "      <td>40.35</td>\n",
       "      <td>1</td>\n",
       "      <td>2.0175</td>\n",
       "      <td>42.3675</td>\n",
       "      <td>Ewallet</td>\n",
       "      <td>40.35</td>\n",
       "      <td>6.2</td>\n",
       "      <td>medium</td>\n",
       "    </tr>\n",
       "    <tr>\n",
       "      <th>996</th>\n",
       "      <td>303-96-2227</td>\n",
       "      <td>Mandalay</td>\n",
       "      <td>Normal Female</td>\n",
       "      <td>Home and lifestyle</td>\n",
       "      <td>97.38</td>\n",
       "      <td>10</td>\n",
       "      <td>48.6900</td>\n",
       "      <td>1022.4900</td>\n",
       "      <td>Ewallet</td>\n",
       "      <td>973.80</td>\n",
       "      <td>4.4</td>\n",
       "      <td>bad</td>\n",
       "    </tr>\n",
       "    <tr>\n",
       "      <th>997</th>\n",
       "      <td>727-02-1313</td>\n",
       "      <td>Yangon</td>\n",
       "      <td>Member Male</td>\n",
       "      <td>Food and beverages</td>\n",
       "      <td>31.84</td>\n",
       "      <td>1</td>\n",
       "      <td>1.5920</td>\n",
       "      <td>33.4320</td>\n",
       "      <td>Cash</td>\n",
       "      <td>31.84</td>\n",
       "      <td>7.7</td>\n",
       "      <td>medium</td>\n",
       "    </tr>\n",
       "    <tr>\n",
       "      <th>998</th>\n",
       "      <td>347-56-2442</td>\n",
       "      <td>Yangon</td>\n",
       "      <td>Normal Male</td>\n",
       "      <td>Home and lifestyle</td>\n",
       "      <td>65.82</td>\n",
       "      <td>1</td>\n",
       "      <td>3.2910</td>\n",
       "      <td>69.1110</td>\n",
       "      <td>Cash</td>\n",
       "      <td>65.82</td>\n",
       "      <td>4.1</td>\n",
       "      <td>bad</td>\n",
       "    </tr>\n",
       "    <tr>\n",
       "      <th>999</th>\n",
       "      <td>849-09-3807</td>\n",
       "      <td>Yangon</td>\n",
       "      <td>Member Female</td>\n",
       "      <td>Fashion accessories</td>\n",
       "      <td>88.34</td>\n",
       "      <td>7</td>\n",
       "      <td>30.9190</td>\n",
       "      <td>649.2990</td>\n",
       "      <td>Cash</td>\n",
       "      <td>618.38</td>\n",
       "      <td>6.6</td>\n",
       "      <td>medium</td>\n",
       "    </tr>\n",
       "  </tbody>\n",
       "</table>\n",
       "<p>1000 rows × 12 columns</p>\n",
       "</div>"
      ],
      "text/plain": [
       "      Invoice ID       City       Customer            Product line  \\\n",
       "0    750-67-8428     Yangon  Member Female       Health and beauty   \n",
       "1    226-31-3081  Naypyitaw  Normal Female  Electronic accessories   \n",
       "2    631-41-3108     Yangon    Normal Male      Home and lifestyle   \n",
       "3    123-19-1176     Yangon    Member Male       Health and beauty   \n",
       "4    373-73-7910     Yangon    Normal Male       Sports and travel   \n",
       "..           ...        ...            ...                     ...   \n",
       "995  233-67-5758  Naypyitaw    Normal Male       Health and beauty   \n",
       "996  303-96-2227   Mandalay  Normal Female      Home and lifestyle   \n",
       "997  727-02-1313     Yangon    Member Male      Food and beverages   \n",
       "998  347-56-2442     Yangon    Normal Male      Home and lifestyle   \n",
       "999  849-09-3807     Yangon  Member Female     Fashion accessories   \n",
       "\n",
       "     Unit price  Quantity   Tax 5%      Total      Payment    cogs  Rating  \\\n",
       "0         74.69         7  26.1415   548.9715      Ewallet  522.83     9.1   \n",
       "1         15.28         5   3.8200    80.2200         Cash   76.40     9.6   \n",
       "2         46.33         7  16.2155   340.5255  Credit card  324.31     7.4   \n",
       "3         58.22         8  23.2880   489.0480      Ewallet  465.76     8.4   \n",
       "4         86.31         7  30.2085   634.3785      Ewallet  604.17     5.3   \n",
       "..          ...       ...      ...        ...          ...     ...     ...   \n",
       "995       40.35         1   2.0175    42.3675      Ewallet   40.35     6.2   \n",
       "996       97.38        10  48.6900  1022.4900      Ewallet  973.80     4.4   \n",
       "997       31.84         1   1.5920    33.4320         Cash   31.84     7.7   \n",
       "998       65.82         1   3.2910    69.1110         Cash   65.82     4.1   \n",
       "999       88.34         7  30.9190   649.2990         Cash  618.38     6.6   \n",
       "\n",
       "          RATE  \n",
       "0    excellent  \n",
       "1    excellent  \n",
       "2       medium  \n",
       "3    excellent  \n",
       "4       medium  \n",
       "..         ...  \n",
       "995     medium  \n",
       "996        bad  \n",
       "997     medium  \n",
       "998        bad  \n",
       "999     medium  \n",
       "\n",
       "[1000 rows x 12 columns]"
      ]
     },
     "execution_count": 29,
     "metadata": {},
     "output_type": "execute_result"
    }
   ],
   "source": [
    "Data"
   ]
  },
  {
   "cell_type": "code",
   "execution_count": 26,
   "metadata": {},
   "outputs": [
    {
     "data": {
      "text/html": [
       "<div>\n",
       "<style scoped>\n",
       "    .dataframe tbody tr th:only-of-type {\n",
       "        vertical-align: middle;\n",
       "    }\n",
       "\n",
       "    .dataframe tbody tr th {\n",
       "        vertical-align: top;\n",
       "    }\n",
       "\n",
       "    .dataframe thead th {\n",
       "        text-align: right;\n",
       "    }\n",
       "</style>\n",
       "<table border=\"1\" class=\"dataframe\">\n",
       "  <thead>\n",
       "    <tr style=\"text-align: right;\">\n",
       "      <th></th>\n",
       "      <th>Invoice ID</th>\n",
       "      <th>City</th>\n",
       "      <th>Customer</th>\n",
       "      <th>Product line</th>\n",
       "      <th>Unit price</th>\n",
       "      <th>Quantity</th>\n",
       "      <th>Tax 5%</th>\n",
       "      <th>Total</th>\n",
       "      <th>Payment</th>\n",
       "      <th>cogs</th>\n",
       "      <th>Rating</th>\n",
       "      <th>RATE</th>\n",
       "    </tr>\n",
       "  </thead>\n",
       "  <tbody>\n",
       "    <tr>\n",
       "      <th>904</th>\n",
       "      <td>545-07-8534</td>\n",
       "      <td>Naypyitaw</td>\n",
       "      <td>Normal Female</td>\n",
       "      <td>Health and beauty</td>\n",
       "      <td>58.32</td>\n",
       "      <td>2</td>\n",
       "      <td>5.832</td>\n",
       "      <td>122.472</td>\n",
       "      <td>Ewallet</td>\n",
       "      <td>116.64</td>\n",
       "      <td>6.0</td>\n",
       "      <td>medium</td>\n",
       "    </tr>\n",
       "    <tr>\n",
       "      <th>63</th>\n",
       "      <td>199-75-8169</td>\n",
       "      <td>Yangon</td>\n",
       "      <td>Member Male</td>\n",
       "      <td>Sports and travel</td>\n",
       "      <td>15.81</td>\n",
       "      <td>10</td>\n",
       "      <td>7.905</td>\n",
       "      <td>166.005</td>\n",
       "      <td>Credit card</td>\n",
       "      <td>158.10</td>\n",
       "      <td>8.6</td>\n",
       "      <td>excellent</td>\n",
       "    </tr>\n",
       "    <tr>\n",
       "      <th>925</th>\n",
       "      <td>226-34-0034</td>\n",
       "      <td>Mandalay</td>\n",
       "      <td>Normal Female</td>\n",
       "      <td>Electronic accessories</td>\n",
       "      <td>13.78</td>\n",
       "      <td>4</td>\n",
       "      <td>2.756</td>\n",
       "      <td>57.876</td>\n",
       "      <td>Ewallet</td>\n",
       "      <td>55.12</td>\n",
       "      <td>9.0</td>\n",
       "      <td>excellent</td>\n",
       "    </tr>\n",
       "    <tr>\n",
       "      <th>637</th>\n",
       "      <td>318-81-2368</td>\n",
       "      <td>Naypyitaw</td>\n",
       "      <td>Normal Female</td>\n",
       "      <td>Electronic accessories</td>\n",
       "      <td>46.20</td>\n",
       "      <td>1</td>\n",
       "      <td>2.310</td>\n",
       "      <td>48.510</td>\n",
       "      <td>Cash</td>\n",
       "      <td>46.20</td>\n",
       "      <td>6.3</td>\n",
       "      <td>medium</td>\n",
       "    </tr>\n",
       "    <tr>\n",
       "      <th>964</th>\n",
       "      <td>794-42-3736</td>\n",
       "      <td>Mandalay</td>\n",
       "      <td>Normal Male</td>\n",
       "      <td>Food and beverages</td>\n",
       "      <td>33.33</td>\n",
       "      <td>2</td>\n",
       "      <td>3.333</td>\n",
       "      <td>69.993</td>\n",
       "      <td>Credit card</td>\n",
       "      <td>66.66</td>\n",
       "      <td>6.4</td>\n",
       "      <td>medium</td>\n",
       "    </tr>\n",
       "  </tbody>\n",
       "</table>\n",
       "</div>"
      ],
      "text/plain": [
       "      Invoice ID       City       Customer            Product line  \\\n",
       "904  545-07-8534  Naypyitaw  Normal Female       Health and beauty   \n",
       "63   199-75-8169     Yangon    Member Male       Sports and travel   \n",
       "925  226-34-0034   Mandalay  Normal Female  Electronic accessories   \n",
       "637  318-81-2368  Naypyitaw  Normal Female  Electronic accessories   \n",
       "964  794-42-3736   Mandalay    Normal Male      Food and beverages   \n",
       "\n",
       "     Unit price  Quantity  Tax 5%    Total      Payment    cogs  Rating  \\\n",
       "904       58.32         2   5.832  122.472      Ewallet  116.64     6.0   \n",
       "63        15.81        10   7.905  166.005  Credit card  158.10     8.6   \n",
       "925       13.78         4   2.756   57.876      Ewallet   55.12     9.0   \n",
       "637       46.20         1   2.310   48.510         Cash   46.20     6.3   \n",
       "964       33.33         2   3.333   69.993  Credit card   66.66     6.4   \n",
       "\n",
       "          RATE  \n",
       "904     medium  \n",
       "63   excellent  \n",
       "925  excellent  \n",
       "637     medium  \n",
       "964     medium  "
      ]
     },
     "execution_count": 26,
     "metadata": {},
     "output_type": "execute_result"
    }
   ],
   "source": [
    "Data.sample(5)"
   ]
  },
  {
   "cell_type": "code",
   "execution_count": 30,
   "metadata": {},
   "outputs": [
    {
     "data": {
      "text/plain": [
       "<AxesSubplot:>"
      ]
     },
     "execution_count": 30,
     "metadata": {},
     "output_type": "execute_result"
    },
    {
     "data": {
      "image/png": "[encoded data removed]",
      "text/plain": [
       "<Figure size 432x288 with 1 Axes>"
      ]
     },
     "metadata": {
      "needs_background": "light"
     },
     "output_type": "display_data"
    }
   ],
   "source": [
    "Data['City'].hist()"
   ]
  },
  {
   "cell_type": "code",
   "execution_count": 31,
   "metadata": {},
   "outputs": [
    {
     "data": {
      "text/plain": [
       "<AxesSubplot:>"
      ]
     },
     "execution_count": 31,
     "metadata": {},
     "output_type": "execute_result"
    },
    {
     "data": {
      "image/png": "[encoded data removed]",
      "text/plain": [
       "<Figure size 432x288 with 1 Axes>"
      ]
     },
     "metadata": {
      "needs_background": "light"
     },
     "output_type": "display_data"
    }
   ],
   "source": [
    "Data['Payment'].hist()"
   ]
  },
  {
   "cell_type": "code",
   "execution_count": 32,
   "metadata": {},
   "outputs": [
    {
     "data": {
      "text/plain": [
       "<AxesSubplot:>"
      ]
     },
     "execution_count": 32,
     "metadata": {},
     "output_type": "execute_result"
    },
    {
     "data": {
      "image/png": "[encoded data removed]",
      "text/plain": [
       "<Figure size 432x288 with 1 Axes>"
      ]
     },
     "metadata": {
      "needs_background": "light"
     },
     "output_type": "display_data"
    }
   ],
   "source": [
    "Data['Customer'].hist()"
   ]
  },
  {
   "cell_type": "code",
   "execution_count": 33,
   "metadata": {},
   "outputs": [
    {
     "data": {
      "text/plain": [
       "<AxesSubplot:>"
      ]
     },
     "execution_count": 33,
     "metadata": {},
     "output_type": "execute_result"
    },
    {
     "data": {
      "image/png": "[encoded data removed]",
      "text/plain": [
       "<Figure size 432x288 with 1 Axes>"
      ]
     },
     "metadata": {
      "needs_background": "light"
     },
     "output_type": "display_data"
    }
   ],
   "source": [
    "Data['Product line'].hist()"
   ]
  },
  {
   "cell_type": "code",
   "execution_count": 34,
   "metadata": {},
   "outputs": [
    {
     "data": {
      "text/plain": [
       "<AxesSubplot:>"
      ]
     },
     "execution_count": 34,
     "metadata": {},
     "output_type": "execute_result"
    },
    {
     "data": {
      "image/png": "[encoded data removed]",
      "text/plain": [
       "<Figure size 432x288 with 1 Axes>"
      ]
     },
     "metadata": {
      "needs_background": "light"
     },
     "output_type": "display_data"
    }
   ],
   "source": [
    "Data['RATE'].hist()"
   ]
  },
  {
   "cell_type": "code",
   "execution_count": 35,
   "metadata": {},
   "outputs": [
    {
     "data": {
      "image/png": "[encoded data removed]",
      "text/plain": [
       "<Figure size 432x288 with 1 Axes>"
      ]
     },
     "metadata": {
      "needs_background": "light"
     },
     "output_type": "display_data"
    }
   ],
   "source": [
    "Data.plot.scatter(x='City', y='Quantity');"
   ]
  },
  {
   "cell_type": "code",
   "execution_count": 36,
   "metadata": {},
   "outputs": [
    {
     "data": {
      "image/png": "[encoded data removed]",
      "text/plain": [
       "<Figure size 432x288 with 1 Axes>"
      ]
     },
     "metadata": {
      "needs_background": "light"
     },
     "output_type": "display_data"
    }
   ],
   "source": [
    "Data.plot.scatter(x='City', y='RATE');"
   ]
  },
  {
   "cell_type": "code",
   "execution_count": 38,
   "metadata": {},
   "outputs": [],
   "source": [
    "import matplotlib.pyplot as plt\n"
   ]
  },
  {
   "cell_type": "code",
   "execution_count": 39,
   "metadata": {},
   "outputs": [
    {
     "data": {
      "image/png": "[encoded data removed]",
      "text/plain": [
       "<Figure size 432x288 with 1 Axes>"
      ]
     },
     "metadata": {
      "needs_background": "light"
     },
     "output_type": "display_data"
    }
   ],
   "source": [
    "Data.groupby(['City','RATE']).size().unstack().plot(kind='bar',stacked=False)\n",
    "plt.show()"
   ]
  },
  {
   "cell_type": "code",
   "execution_count": 40,
   "metadata": {},
   "outputs": [
    {
     "data": {
      "image/png": "[encoded data removed]",
      "text/plain": [
       "<Figure size 432x288 with 1 Axes>"
      ]
     },
     "metadata": {
      "needs_background": "light"
     },
     "output_type": "display_data"
    }
   ],
   "source": [
    "Data.groupby(['City','Customer']).size().unstack().plot(kind='bar',stacked=False)\n",
    "plt.show()"
   ]
  },
  {
   "cell_type": "code",
   "execution_count": 41,
   "metadata": {},
   "outputs": [
    {
     "data": {
      "image/png": "[encoded data removed]",
      "text/plain": [
       "<Figure size 432x288 with 1 Axes>"
      ]
     },
     "metadata": {
      "needs_background": "light"
     },
     "output_type": "display_data"
    }
   ],
   "source": [
    "Data.groupby(['Quantity','Payment']).size().unstack().plot(kind='bar',stacked=False)\n",
    "plt.show()"
   ]
  },
  {
   "cell_type": "code",
   "execution_count": 42,
   "metadata": {},
   "outputs": [
    {
     "data": {
      "image/png": "[encoded data removed]",
      "text/plain": [
       "<Figure size 432x288 with 1 Axes>"
      ]
     },
     "metadata": {
      "needs_background": "light"
     },
     "output_type": "display_data"
    }
   ],
   "source": [
    "Data.groupby(['Customer','RATE']).size().unstack().plot(kind='bar',stacked=False)\n",
    "plt.show()"
   ]
  },
  {
   "cell_type": "code",
   "execution_count": 43,
   "metadata": {},
   "outputs": [
    {
     "data": {
      "image/png": "[encoded data removed]",
      "text/plain": [
       "<Figure size 432x288 with 1 Axes>"
      ]
     },
     "metadata": {
      "needs_background": "light"
     },
     "output_type": "display_data"
    }
   ],
   "source": [
    "Data.groupby(['City','Product line']).size().unstack().plot(kind='bar',stacked=False)\n",
    "plt.show()"
   ]
  },
  {
   "cell_type": "code",
   "execution_count": null,
   "metadata": {},
   "outputs": [],
   "source": []
  }
 ],
 "metadata": {
  "kernelspec": {
   "display_name": "Python 3",
   "language": "python",
   "name": "python3"
  },
  "language_info": {
   "codemirror_mode": {
    "name": "ipython",
    "version": 3
   },
   "file_extension": ".py",
   "mimetype": "text/x-python",
   "name": "python",
   "nbconvert_exporter": "python",
   "pygments_lexer": "ipython3",
   "version": "3.8.5"
  }
 },
 "nbformat": 4,
 "nbformat_minor": 4
}
